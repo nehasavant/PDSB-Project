{
 "cells": [
  {
   "cell_type": "markdown",
   "metadata": {},
   "source": [
    "## Running ipyrad with *Eurycea longicauda* samples"
   ]
  },
  {
   "cell_type": "markdown",
   "metadata": {},
   "source": [
    "First, make sure you've installed miniconda3 on your cluster or local computer. Then, install a Python 2 conda environment by imputing this code into your terminal:"
   ]
  },
  {
   "cell_type": "code",
   "execution_count": null,
   "metadata": {},
   "outputs": [],
   "source": [
    "conda create -n py27 python=2.7\n",
    "source activate py27\n",
    "#To deactivate the conda environment: \n",
    "source deactivate"
   ]
  },
  {
   "cell_type": "markdown",
   "metadata": {},
   "source": [
    "The genomic data used in this script was extracted from Long-tail salamanders, *Eurycea longicauda*, collected in 2017 and the samples were prepped using the paired-end ddRAD protocol from Peterson et al. 2012. EcoRI and Sph1 were used as restriction enzymes.  "
   ]
  },
  {
   "cell_type": "markdown",
   "metadata": {},
   "source": [
    "I first will run the ACAGTG pool raw reads from three lanes. But since the same pools were run across three different lanes, I will need to run each pool of each lane separately and then concatenate them. The barcodes file for this test run includes all the sample names and their associated P1 barcodes in the ACAGTG pool. I will run each of the three lanes of my remaining five pools the same way I run it for the ACAGTG pool. For the rest of the PDSB project, however, I will only use samples from the Wickecheoke. This is mostly to save on processing time. "
   ]
  },
  {
   "cell_type": "markdown",
   "metadata": {},
   "source": [
    "### **Step 1: De-multiplexing**    \n",
    "I ran the following in the commands in my local terminal window: "
   ]
  },
  {
   "cell_type": "code",
   "execution_count": 3,
   "metadata": {},
   "outputs": [],
   "source": [
    "#ipyrad -p ACAGTG1_params.txt -s 1\n",
    "#ipyrad -p ACAGTG2_params.txt -s 1\n",
    "#ipyrad -p ACAGTG3_params.txt -s 1"
   ]
  },
  {
   "cell_type": "markdown",
   "metadata": {},
   "source": [
    "Then to concatenate/merge the three lanes of sorted reads from ACAGTG pool, I run the following code. This code will create 1) A `.json` file with all the data and 2) A new params file outlining the new locations of the merged data."
   ]
  },
  {
   "cell_type": "code",
   "execution_count": 5,
   "metadata": {},
   "outputs": [],
   "source": [
    "#ipyrad -m ACAGTG_all ACAGTG1_params.txt ACAGTG2_params.txt ACAGTG3_params.txt"
   ]
  },
  {
   "cell_type": "markdown",
   "metadata": {},
   "source": [
    "### Step 2: Filtering   \n",
    "I ran the following in my commands: "
   ]
  },
  {
   "cell_type": "code",
   "execution_count": null,
   "metadata": {},
   "outputs": [],
   "source": [
    "#ipyrad -p ACAGTG1_params.txt -s 2"
   ]
  }
 ],
 "metadata": {
  "kernelspec": {
   "display_name": "Python 2",
   "language": "python",
   "name": "python2"
  },
  "language_info": {
   "codemirror_mode": {
    "name": "ipython",
    "version": 2
   },
   "file_extension": ".py",
   "mimetype": "text/x-python",
   "name": "python",
   "nbconvert_exporter": "python",
   "pygments_lexer": "ipython2",
   "version": "2.7.14"
  }
 },
 "nbformat": 4,
 "nbformat_minor": 2
}
